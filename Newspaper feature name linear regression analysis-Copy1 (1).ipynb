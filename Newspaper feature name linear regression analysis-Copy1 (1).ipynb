{
 "cells": [
  {
   "cell_type": "code",
   "execution_count": 4,
   "metadata": {},
   "outputs": [],
   "source": [
    "import numpy as np\n",
    "import pandas as pd\n",
    "\n",
    "import os\n",
    "\n",
    "# import model related libraries\n",
    "from sklearn.linear_model import LinearRegression\n",
    "from sklearn.model_selection import train_test_split\n",
    "\n",
    "# import module to calculate model perfomance metrics\n",
    "from sklearn import metrics"
   ]
  },
  {
   "cell_type": "code",
   "execution_count": 6,
   "metadata": {},
   "outputs": [],
   "source": [
    "#data_path = \"data/Advertising.csv\" # or load the dataset directly from the link\n",
    "#data_link = \"http://www-bcf.usc.edu/~gareth/ISL/Advertising.csv\"\n",
    "\n",
    "#Step 1: get the data (read the csv file)\n",
    "path = r'C:\\Users\\14438\\Downloads'\n",
    "os.chdir(path)\n",
    "data = pd.read_csv('Advertising.csv', index_col=0 , error_bad_lines = False)"
   ]
  },
  {
   "cell_type": "code",
   "execution_count": 7,
   "metadata": {},
   "outputs": [
    {
     "data": {
      "text/html": [
       "<div>\n",
       "<style scoped>\n",
       "    .dataframe tbody tr th:only-of-type {\n",
       "        vertical-align: middle;\n",
       "    }\n",
       "\n",
       "    .dataframe tbody tr th {\n",
       "        vertical-align: top;\n",
       "    }\n",
       "\n",
       "    .dataframe thead th {\n",
       "        text-align: right;\n",
       "    }\n",
       "</style>\n",
       "<table border=\"1\" class=\"dataframe\">\n",
       "  <thead>\n",
       "    <tr style=\"text-align: right;\">\n",
       "      <th></th>\n",
       "      <th>TV</th>\n",
       "      <th>Radio</th>\n",
       "      <th>Newspaper</th>\n",
       "      <th>Sales</th>\n",
       "    </tr>\n",
       "  </thead>\n",
       "  <tbody>\n",
       "    <tr>\n",
       "      <td>1</td>\n",
       "      <td>230.1</td>\n",
       "      <td>37.8</td>\n",
       "      <td>69.2</td>\n",
       "      <td>22.1</td>\n",
       "    </tr>\n",
       "    <tr>\n",
       "      <td>2</td>\n",
       "      <td>44.5</td>\n",
       "      <td>39.3</td>\n",
       "      <td>45.1</td>\n",
       "      <td>10.4</td>\n",
       "    </tr>\n",
       "    <tr>\n",
       "      <td>3</td>\n",
       "      <td>17.2</td>\n",
       "      <td>45.9</td>\n",
       "      <td>69.3</td>\n",
       "      <td>9.3</td>\n",
       "    </tr>\n",
       "    <tr>\n",
       "      <td>4</td>\n",
       "      <td>151.5</td>\n",
       "      <td>41.3</td>\n",
       "      <td>58.5</td>\n",
       "      <td>18.5</td>\n",
       "    </tr>\n",
       "    <tr>\n",
       "      <td>5</td>\n",
       "      <td>180.8</td>\n",
       "      <td>10.8</td>\n",
       "      <td>58.4</td>\n",
       "      <td>12.9</td>\n",
       "    </tr>\n",
       "    <tr>\n",
       "      <td>...</td>\n",
       "      <td>...</td>\n",
       "      <td>...</td>\n",
       "      <td>...</td>\n",
       "      <td>...</td>\n",
       "    </tr>\n",
       "    <tr>\n",
       "      <td>196</td>\n",
       "      <td>38.2</td>\n",
       "      <td>3.7</td>\n",
       "      <td>13.8</td>\n",
       "      <td>7.6</td>\n",
       "    </tr>\n",
       "    <tr>\n",
       "      <td>197</td>\n",
       "      <td>94.2</td>\n",
       "      <td>4.9</td>\n",
       "      <td>8.1</td>\n",
       "      <td>9.7</td>\n",
       "    </tr>\n",
       "    <tr>\n",
       "      <td>198</td>\n",
       "      <td>177.0</td>\n",
       "      <td>9.3</td>\n",
       "      <td>6.4</td>\n",
       "      <td>12.8</td>\n",
       "    </tr>\n",
       "    <tr>\n",
       "      <td>199</td>\n",
       "      <td>283.6</td>\n",
       "      <td>42.0</td>\n",
       "      <td>66.2</td>\n",
       "      <td>25.5</td>\n",
       "    </tr>\n",
       "    <tr>\n",
       "      <td>200</td>\n",
       "      <td>232.1</td>\n",
       "      <td>8.6</td>\n",
       "      <td>8.7</td>\n",
       "      <td>13.4</td>\n",
       "    </tr>\n",
       "  </tbody>\n",
       "</table>\n",
       "<p>200 rows × 4 columns</p>\n",
       "</div>"
      ],
      "text/plain": [
       "        TV  Radio  Newspaper  Sales\n",
       "1    230.1   37.8       69.2   22.1\n",
       "2     44.5   39.3       45.1   10.4\n",
       "3     17.2   45.9       69.3    9.3\n",
       "4    151.5   41.3       58.5   18.5\n",
       "5    180.8   10.8       58.4   12.9\n",
       "..     ...    ...        ...    ...\n",
       "196   38.2    3.7       13.8    7.6\n",
       "197   94.2    4.9        8.1    9.7\n",
       "198  177.0    9.3        6.4   12.8\n",
       "199  283.6   42.0       66.2   25.5\n",
       "200  232.1    8.6        8.7   13.4\n",
       "\n",
       "[200 rows x 4 columns]"
      ]
     },
     "execution_count": 7,
     "metadata": {},
     "output_type": "execute_result"
    }
   ],
   "source": [
    "data"
   ]
  },
  {
   "cell_type": "code",
   "execution_count": 8,
   "metadata": {},
   "outputs": [],
   "source": [
    "data.reset_index(drop =True , inplace = True)"
   ]
  },
  {
   "cell_type": "code",
   "execution_count": 9,
   "metadata": {},
   "outputs": [
    {
     "data": {
      "text/plain": [
       "(200, 4)"
      ]
     },
     "execution_count": 9,
     "metadata": {},
     "output_type": "execute_result"
    }
   ],
   "source": [
    "data.shape"
   ]
  },
  {
   "cell_type": "code",
   "execution_count": 10,
   "metadata": {},
   "outputs": [],
   "source": [
    "#Step 2: select independent(X) and dependent variable (y)\n",
    "# create a Python list of feature names\n",
    "feature_names=['Newspaper']\n",
    "\n",
    "# use the list to select a subset of the original DataFrame\n",
    "X = data[feature_names]\n",
    "\n",
    "# sales\n",
    "y = data.Sales"
   ]
  },
  {
   "cell_type": "code",
   "execution_count": 11,
   "metadata": {},
   "outputs": [
    {
     "data": {
      "text/plain": [
       "0      22.1\n",
       "1      10.4\n",
       "2       9.3\n",
       "3      18.5\n",
       "4      12.9\n",
       "       ... \n",
       "195     7.6\n",
       "196     9.7\n",
       "197    12.8\n",
       "198    25.5\n",
       "199    13.4\n",
       "Name: Sales, Length: 200, dtype: float64"
      ]
     },
     "execution_count": 11,
     "metadata": {},
     "output_type": "execute_result"
    }
   ],
   "source": [
    "y"
   ]
  },
  {
   "cell_type": "code",
   "execution_count": 12,
   "metadata": {},
   "outputs": [],
   "source": [
    "# Step 3: Splitting X and y into training and testing sets\n",
    "X_train, X_test, y_train, y_test = train_test_split(X, y, random_state=1,test_size=0.20)"
   ]
  },
  {
   "cell_type": "code",
   "execution_count": 13,
   "metadata": {},
   "outputs": [
    {
     "data": {
      "text/plain": [
       "58     23.8\n",
       "40     16.6\n",
       "34      9.5\n",
       "102    14.8\n",
       "184    17.6\n",
       "198    25.5\n",
       "95     16.9\n",
       "4      12.9\n",
       "29     10.5\n",
       "168    17.1\n",
       "171    14.5\n",
       "18     11.3\n",
       "11     17.4\n",
       "89     16.7\n",
       "110    13.4\n",
       "118    15.9\n",
       "159    12.9\n",
       "35     12.8\n",
       "136     9.5\n",
       "59     18.4\n",
       "51     10.7\n",
       "16     12.5\n",
       "44      8.5\n",
       "94     11.5\n",
       "31     11.9\n",
       "162    14.9\n",
       "38     10.1\n",
       "28     18.9\n",
       "193    19.6\n",
       "27     15.9\n",
       "47     23.2\n",
       "165    11.9\n",
       "194    17.3\n",
       "177    11.7\n",
       "176    20.2\n",
       "97     15.5\n",
       "174    11.5\n",
       "73     11.0\n",
       "69     22.3\n",
       "172     7.6\n",
       "Name: Sales, dtype: float64"
      ]
     },
     "execution_count": 13,
     "metadata": {},
     "output_type": "execute_result"
    }
   ],
   "source": [
    "y_test"
   ]
  },
  {
   "cell_type": "code",
   "execution_count": 14,
   "metadata": {},
   "outputs": [
    {
     "data": {
      "text/plain": [
       "LinearRegression(copy_X=True, fit_intercept=True, n_jobs=None, normalize=False)"
      ]
     },
     "execution_count": 14,
     "metadata": {},
     "output_type": "execute_result"
    }
   ],
   "source": [
    "# Step 4: Fit linear regression model to trainingset\n",
    "# Linear Regression Model\n",
    "linreg = LinearRegression()\n",
    "\n",
    "# fit the model to the training data (learn the coefficients)\n",
    "linreg.fit(X_train, y_train)"
   ]
  },
  {
   "cell_type": "code",
   "execution_count": 15,
   "metadata": {},
   "outputs": [
    {
     "name": "stdout",
     "output_type": "stream",
     "text": [
      "Intercept= 11.705780334816042\n",
      "Slope= [0.07029362]\n"
     ]
    }
   ],
   "source": [
    "print(\"Intercept=\",linreg.intercept_)\n",
    "print(\"Slope=\",linreg.coef_)"
   ]
  },
  {
   "cell_type": "code",
   "execution_count": 16,
   "metadata": {},
   "outputs": [
    {
     "data": {
      "text/plain": [
       "(array([12.86345116]), array([0.00044626]))"
      ]
     },
     "execution_count": 16,
     "metadata": {},
     "output_type": "execute_result"
    }
   ],
   "source": [
    "from sklearn.feature_selection import f_regression\n",
    "fregression=f_regression(X_train, y_train) #returns Fvalues of features; p values of features\n",
    "fregression"
   ]
  },
  {
   "cell_type": "code",
   "execution_count": 18,
   "metadata": {},
   "outputs": [
    {
     "data": {
      "text/plain": [
       "array([14.35584982, 13.92705874, 12.22595313, 13.21006381, 13.81458895,\n",
       "       16.35921801, 15.42431285, 15.81092777, 14.57376005, 15.75469287,\n",
       "       15.03769794, 12.99215359, 11.98695482, 15.31887242, 15.67736989,\n",
       "       17.27303507, 14.1379396 , 12.30327611, 12.359511  , 12.359511  ,\n",
       "       11.95883737, 19.71925306, 14.7494941 , 12.4719808 , 14.41911408,\n",
       "       13.50529702, 14.17308641, 13.31550424, 11.95883737, 13.31550424,\n",
       "       13.00621231, 17.66667935, 12.12754206, 14.18011577, 13.13274083,\n",
       "       13.25223998, 12.62662676, 13.90597065, 13.61776681, 12.90077188])"
      ]
     },
     "execution_count": 18,
     "metadata": {},
     "output_type": "execute_result"
    }
   ],
   "source": [
    "#Step 5: Test the model's generalization ability using testset\n",
    "# make predictions on the testing set\n",
    "y_pred = linreg.predict(X_test)\n",
    "y_pred"
   ]
  },
  {
   "cell_type": "code",
   "execution_count": 19,
   "metadata": {},
   "outputs": [
    {
     "name": "stdout",
     "output_type": "stream",
     "text": [
      "RMSE= 4.674971516791037\n",
      "Rsquare= -0.17665180933129276\n"
     ]
    }
   ],
   "source": [
    "# Step 6: Compute the performance of the model using metrics\n",
    "print(\"RMSE=\", np.sqrt(metrics.mean_squared_error(y_test, y_pred)))\n",
    "print(\"Rsquare=\",metrics.r2_score(y_test,y_pred))"
   ]
  },
  {
   "cell_type": "code",
   "execution_count": 21,
   "metadata": {},
   "outputs": [
    {
     "data": {
      "text/html": [
       "<div>\n",
       "<style scoped>\n",
       "    .dataframe tbody tr th:only-of-type {\n",
       "        vertical-align: middle;\n",
       "    }\n",
       "\n",
       "    .dataframe tbody tr th {\n",
       "        vertical-align: top;\n",
       "    }\n",
       "\n",
       "    .dataframe thead th {\n",
       "        text-align: right;\n",
       "    }\n",
       "</style>\n",
       "<table border=\"1\" class=\"dataframe\">\n",
       "  <thead>\n",
       "    <tr style=\"text-align: right;\">\n",
       "      <th></th>\n",
       "      <th>Predicted</th>\n",
       "    </tr>\n",
       "  </thead>\n",
       "  <tbody>\n",
       "    <tr>\n",
       "      <td>0</td>\n",
       "      <td>14.355850</td>\n",
       "    </tr>\n",
       "    <tr>\n",
       "      <td>1</td>\n",
       "      <td>13.927059</td>\n",
       "    </tr>\n",
       "    <tr>\n",
       "      <td>2</td>\n",
       "      <td>12.225953</td>\n",
       "    </tr>\n",
       "    <tr>\n",
       "      <td>3</td>\n",
       "      <td>13.210064</td>\n",
       "    </tr>\n",
       "    <tr>\n",
       "      <td>4</td>\n",
       "      <td>13.814589</td>\n",
       "    </tr>\n",
       "  </tbody>\n",
       "</table>\n",
       "</div>"
      ],
      "text/plain": [
       "   Predicted\n",
       "0  14.355850\n",
       "1  13.927059\n",
       "2  12.225953\n",
       "3  13.210064\n",
       "4  13.814589"
      ]
     },
     "execution_count": 21,
     "metadata": {},
     "output_type": "execute_result"
    }
   ],
   "source": [
    "df_predicted=pd.DataFrame()\n",
    "#df_predicted['Actual']=y_test\n",
    "df_predicted['Predicted']=y_pred\n",
    "df_predicted.head()"
   ]
  },
  {
   "cell_type": "code",
   "execution_count": 23,
   "metadata": {},
   "outputs": [
    {
     "data": {
      "image/png": "[encoded data removed]",
      "text/plain": [
       "<Figure size 432x288 with 1 Axes>"
      ]
     },
     "metadata": {
      "needs_background": "light"
     },
     "output_type": "display_data"
    }
   ],
   "source": [
    "%matplotlib inline\n",
    "import matplotlib.pyplot as plt\n",
    "import numpy as np\n",
    "\n",
    "x=np.arange(1,len(y_test)+1)\n",
    "\n",
    "plt.plot(x,y_test,label='Actual')\n",
    "plt.plot(x,y_pred,label='Predicted')\n",
    "plt.title(\"Actual Vs Predicted (Test set)\")\n",
    "plt.legend(loc=\"best\")\n",
    "plt.grid(True)"
   ]
  },
  {
   "cell_type": "code",
   "execution_count": null,
   "metadata": {},
   "outputs": [],
   "source": []
  },
  {
   "cell_type": "code",
   "execution_count": 25,
   "metadata": {},
   "outputs": [],
   "source": [
    "import numpy as np\n",
    "import pandas as pd\n",
    "\n",
    "# import library for splitting data\n",
    "from sklearn.model_selection import train_test_split\n",
    "\n",
    "# import module to calculate model perfomance metrics\n",
    "from sklearn import metrics\n",
    "\n",
    "# Import libraries for Polynomial regression\n",
    "from sklearn.preprocessing import PolynomialFeatures\n",
    "from sklearn.linear_model import LinearRegression"
   ]
  },
  {
   "cell_type": "code",
   "execution_count": 26,
   "metadata": {},
   "outputs": [
    {
     "data": {
      "text/html": [
       "<div>\n",
       "<style scoped>\n",
       "    .dataframe tbody tr th:only-of-type {\n",
       "        vertical-align: middle;\n",
       "    }\n",
       "\n",
       "    .dataframe tbody tr th {\n",
       "        vertical-align: top;\n",
       "    }\n",
       "\n",
       "    .dataframe thead th {\n",
       "        text-align: right;\n",
       "    }\n",
       "</style>\n",
       "<table border=\"1\" class=\"dataframe\">\n",
       "  <thead>\n",
       "    <tr style=\"text-align: right;\">\n",
       "      <th></th>\n",
       "      <th>TV</th>\n",
       "      <th>Radio</th>\n",
       "      <th>Newspaper</th>\n",
       "      <th>Sales</th>\n",
       "    </tr>\n",
       "  </thead>\n",
       "  <tbody>\n",
       "    <tr>\n",
       "      <td>0</td>\n",
       "      <td>230.1</td>\n",
       "      <td>37.8</td>\n",
       "      <td>69.2</td>\n",
       "      <td>22.1</td>\n",
       "    </tr>\n",
       "    <tr>\n",
       "      <td>1</td>\n",
       "      <td>44.5</td>\n",
       "      <td>39.3</td>\n",
       "      <td>45.1</td>\n",
       "      <td>10.4</td>\n",
       "    </tr>\n",
       "    <tr>\n",
       "      <td>2</td>\n",
       "      <td>17.2</td>\n",
       "      <td>45.9</td>\n",
       "      <td>69.3</td>\n",
       "      <td>9.3</td>\n",
       "    </tr>\n",
       "    <tr>\n",
       "      <td>3</td>\n",
       "      <td>151.5</td>\n",
       "      <td>41.3</td>\n",
       "      <td>58.5</td>\n",
       "      <td>18.5</td>\n",
       "    </tr>\n",
       "    <tr>\n",
       "      <td>4</td>\n",
       "      <td>180.8</td>\n",
       "      <td>10.8</td>\n",
       "      <td>58.4</td>\n",
       "      <td>12.9</td>\n",
       "    </tr>\n",
       "  </tbody>\n",
       "</table>\n",
       "</div>"
      ],
      "text/plain": [
       "      TV  Radio  Newspaper  Sales\n",
       "0  230.1   37.8       69.2   22.1\n",
       "1   44.5   39.3       45.1   10.4\n",
       "2   17.2   45.9       69.3    9.3\n",
       "3  151.5   41.3       58.5   18.5\n",
       "4  180.8   10.8       58.4   12.9"
      ]
     },
     "execution_count": 26,
     "metadata": {},
     "output_type": "execute_result"
    }
   ],
   "source": [
    "data.head()"
   ]
  },
  {
   "cell_type": "code",
   "execution_count": 28,
   "metadata": {},
   "outputs": [],
   "source": [
    "#data_path = \"data/Advertising.csv\" # or load the dataset directly from the link\n",
    "#data_link = \"http://www-bcf.usc.edu/~gareth/ISL/Advertising.csv\"\n",
    "\n",
    "#Step 1: get the data (read the csv file)\n",
    "path = r'C:\\Users\\14438\\Downloads'\n",
    "os.chdir(path)\n",
    "data = pd.read_csv('Advertising.csv', index_col=0 , error_bad_lines = False)"
   ]
  },
  {
   "cell_type": "code",
   "execution_count": 29,
   "metadata": {},
   "outputs": [],
   "source": [
    "# create a Python list of feature names\n",
    "feature_names=['Newspaper']\n",
    "\n",
    "# use the list to select a subset of the original DataFrame\n",
    "X = data[feature_names]\n",
    "\n",
    "# sales\n",
    "y = data.Sales\n",
    "\n"
   ]
  },
  {
   "cell_type": "code",
   "execution_count": 30,
   "metadata": {},
   "outputs": [],
   "source": [
    "# Splitting X and y into training and testing sets\n",
    "X_train, X_test, y_train, y_test = train_test_split(X, y, random_state=1,test_size=0.20)"
   ]
  },
  {
   "cell_type": "code",
   "execution_count": 31,
   "metadata": {},
   "outputs": [
    {
     "data": {
      "text/plain": [
       "array([[1.000000e+00, 2.560000e+01, 6.553600e+02],\n",
       "       [1.000000e+00, 2.320000e+01, 5.382400e+02],\n",
       "       [1.000000e+00, 2.340000e+01, 5.475600e+02],\n",
       "       [1.000000e+00, 4.600000e+01, 2.116000e+03],\n",
       "       [1.000000e+00, 4.140000e+01, 1.713960e+03],\n",
       "       [1.000000e+00, 1.910000e+01, 3.648100e+02],\n",
       "       [1.000000e+00, 3.450000e+01, 1.190250e+03],\n",
       "       [1.000000e+00, 3.200000e+01, 1.024000e+03],\n",
       "       [1.000000e+00, 1.960000e+01, 3.841600e+02],\n",
       "       [1.000000e+00, 7.420000e+01, 5.505640e+03],\n",
       "       [1.000000e+00, 5.120000e+01, 2.621440e+03],\n",
       "       [1.000000e+00, 1.240000e+01, 1.537600e+02],\n",
       "       [1.000000e+00, 2.230000e+01, 4.972900e+02],\n",
       "       [1.000000e+00, 5.870000e+01, 3.445690e+03],\n",
       "       [1.000000e+00, 3.000000e-01, 9.000000e-02],\n",
       "       [1.000000e+00, 1.760000e+01, 3.097600e+02],\n",
       "       [1.000000e+00, 2.740000e+01, 7.507600e+02],\n",
       "       [1.000000e+00, 2.970000e+01, 8.820900e+02],\n",
       "       [1.000000e+00, 8.700000e+00, 7.569000e+01],\n",
       "       [1.000000e+00, 2.050000e+01, 4.202500e+02],\n",
       "       [1.000000e+00, 2.560000e+01, 6.553600e+02],\n",
       "       [1.000000e+00, 1.020000e+01, 1.040400e+02],\n",
       "       [1.000000e+00, 9.400000e+00, 8.836000e+01],\n",
       "       [1.000000e+00, 1.800000e+00, 3.240000e+00],\n",
       "       [1.000000e+00, 5.580000e+01, 3.113640e+03],\n",
       "       [1.000000e+00, 7.500000e+01, 5.625000e+03],\n",
       "       [1.000000e+00, 9.200000e+00, 8.464000e+01],\n",
       "       [1.000000e+00, 5.900000e+01, 3.481000e+03],\n",
       "       [1.000000e+00, 4.990000e+01, 2.490010e+03],\n",
       "       [1.000000e+00, 2.200000e+00, 4.840000e+00],\n",
       "       [1.000000e+00, 1.590000e+01, 2.528100e+02],\n",
       "       [1.000000e+00, 3.380000e+01, 1.142440e+03],\n",
       "       [1.000000e+00, 7.180000e+01, 5.155240e+03],\n",
       "       [1.000000e+00, 4.520000e+01, 2.043040e+03],\n",
       "       [1.000000e+00, 2.160000e+01, 4.665600e+02],\n",
       "       [1.000000e+00, 1.070000e+01, 1.144900e+02],\n",
       "       [1.000000e+00, 6.590000e+01, 4.342810e+03],\n",
       "       [1.000000e+00, 1.480000e+01, 2.190400e+02],\n",
       "       [1.000000e+00, 7.230000e+01, 5.227290e+03],\n",
       "       [1.000000e+00, 4.620000e+01, 2.134440e+03],\n",
       "       [1.000000e+00, 9.500000e+00, 9.025000e+01],\n",
       "       [1.000000e+00, 9.300000e+00, 8.649000e+01],\n",
       "       [1.000000e+00, 3.690000e+01, 1.361610e+03],\n",
       "       [1.000000e+00, 1.560000e+01, 2.433600e+02],\n",
       "       [1.000000e+00, 6.000000e+00, 3.600000e+01],\n",
       "       [1.000000e+00, 7.200000e+00, 5.184000e+01],\n",
       "       [1.000000e+00, 3.250000e+01, 1.056250e+03],\n",
       "       [1.000000e+00, 2.100000e+00, 4.410000e+00],\n",
       "       [1.000000e+00, 1.820000e+01, 3.312400e+02],\n",
       "       [1.000000e+00, 3.150000e+01, 9.922500e+02],\n",
       "       [1.000000e+00, 4.590000e+01, 2.106810e+03],\n",
       "       [1.000000e+00, 5.000000e+00, 2.500000e+01],\n",
       "       [1.000000e+00, 4.930000e+01, 2.430490e+03],\n",
       "       [1.000000e+00, 2.660000e+01, 7.075600e+02],\n",
       "       [1.000000e+00, 3.770000e+01, 1.421290e+03],\n",
       "       [1.000000e+00, 1.790000e+01, 3.204100e+02],\n",
       "       [1.000000e+00, 1.380000e+01, 1.904400e+02],\n",
       "       [1.000000e+00, 6.400000e+00, 4.096000e+01],\n",
       "       [1.000000e+00, 1.190000e+01, 1.416100e+02],\n",
       "       [1.000000e+00, 1.280000e+01, 1.638400e+02],\n",
       "       [1.000000e+00, 8.940000e+01, 7.992360e+03],\n",
       "       [1.000000e+00, 2.350000e+01, 5.522500e+02],\n",
       "       [1.000000e+00, 3.300000e+01, 1.089000e+03],\n",
       "       [1.000000e+00, 1.420000e+01, 2.016400e+02],\n",
       "       [1.000000e+00, 6.930000e+01, 4.802490e+03],\n",
       "       [1.000000e+00, 3.870000e+01, 1.497690e+03],\n",
       "       [1.000000e+00, 6.570000e+01, 4.316490e+03],\n",
       "       [1.000000e+00, 3.700000e+01, 1.369000e+03],\n",
       "       [1.000000e+00, 2.350000e+01, 5.522500e+02],\n",
       "       [1.000000e+00, 2.400000e+00, 5.760000e+00],\n",
       "       [1.000000e+00, 6.920000e+01, 4.788640e+03],\n",
       "       [1.000000e+00, 5.700000e+00, 3.249000e+01],\n",
       "       [1.000000e+00, 1.420000e+01, 2.016400e+02],\n",
       "       [1.000000e+00, 9.000000e-01, 8.100000e-01],\n",
       "       [1.000000e+00, 6.000000e+01, 3.600000e+03],\n",
       "       [1.000000e+00, 1.940000e+01, 3.763600e+02],\n",
       "       [1.000000e+00, 7.340000e+01, 5.387560e+03],\n",
       "       [1.000000e+00, 8.700000e+00, 7.569000e+01],\n",
       "       [1.000000e+00, 3.570000e+01, 1.274490e+03],\n",
       "       [1.000000e+00, 2.730000e+01, 7.452900e+02],\n",
       "       [1.000000e+00, 1.310000e+01, 1.716100e+02],\n",
       "       [1.000000e+00, 5.900000e+01, 3.481000e+03],\n",
       "       [1.000000e+00, 4.430000e+01, 1.962490e+03],\n",
       "       [1.000000e+00, 3.070000e+01, 9.424900e+02],\n",
       "       [1.000000e+00, 3.440000e+01, 1.183360e+03],\n",
       "       [1.000000e+00, 6.320000e+01, 3.994240e+03],\n",
       "       [1.000000e+00, 8.300000e+00, 6.889000e+01],\n",
       "       [1.000000e+00, 9.000000e+00, 8.100000e+01],\n",
       "       [1.000000e+00, 5.400000e+00, 2.916000e+01],\n",
       "       [1.000000e+00, 2.420000e+01, 5.856400e+02],\n",
       "       [1.000000e+00, 3.000000e+01, 9.000000e+02],\n",
       "       [1.000000e+00, 3.560000e+01, 1.267360e+03],\n",
       "       [1.000000e+00, 2.970000e+01, 8.820900e+02],\n",
       "       [1.000000e+00, 4.980000e+01, 2.480040e+03],\n",
       "       [1.000000e+00, 2.590000e+01, 6.708100e+02],\n",
       "       [1.000000e+00, 2.620000e+01, 6.864400e+02],\n",
       "       [1.000000e+00, 5.060000e+01, 2.560360e+03],\n",
       "       [1.000000e+00, 2.120000e+01, 4.494400e+02],\n",
       "       [1.000000e+00, 1.840000e+01, 3.385600e+02],\n",
       "       [1.000000e+00, 5.300000e+00, 2.809000e+01],\n",
       "       [1.000000e+00, 4.870000e+01, 2.371690e+03],\n",
       "       [1.000000e+00, 8.500000e+00, 7.225000e+01],\n",
       "       [1.000000e+00, 2.320000e+01, 5.382400e+02],\n",
       "       [1.000000e+00, 3.700000e+00, 1.369000e+01],\n",
       "       [1.000000e+00, 2.890000e+01, 8.352100e+02],\n",
       "       [1.000000e+00, 5.290000e+01, 2.798410e+03],\n",
       "       [1.000000e+00, 3.870000e+01, 1.497690e+03],\n",
       "       [1.000000e+00, 7.400000e+00, 5.476000e+01],\n",
       "       [1.000000e+00, 5.500000e+00, 3.025000e+01],\n",
       "       [1.000000e+00, 2.230000e+01, 4.972900e+02],\n",
       "       [1.000000e+00, 3.960000e+01, 1.568160e+03],\n",
       "       [1.000000e+00, 1.260000e+01, 1.587600e+02],\n",
       "       [1.000000e+00, 2.070000e+01, 4.284900e+02],\n",
       "       [1.000000e+00, 2.640000e+01, 6.969600e+02],\n",
       "       [1.000000e+00, 1.830000e+01, 3.348900e+02],\n",
       "       [1.000000e+00, 5.850000e+01, 3.422250e+03],\n",
       "       [1.000000e+00, 6.400000e+00, 4.096000e+01],\n",
       "       [1.000000e+00, 3.680000e+01, 1.354240e+03],\n",
       "       [1.000000e+00, 2.060000e+01, 4.243600e+02],\n",
       "       [1.000000e+00, 4.300000e+01, 1.849000e+03],\n",
       "       [1.000000e+00, 5.800000e+00, 3.364000e+01],\n",
       "       [1.000000e+00, 4.320000e+01, 1.866240e+03],\n",
       "       [1.000000e+00, 5.040000e+01, 2.540160e+03],\n",
       "       [1.000000e+00, 5.270000e+01, 2.777290e+03],\n",
       "       [1.000000e+00, 4.180000e+01, 1.747240e+03],\n",
       "       [1.000000e+00, 1.000000e+00, 1.000000e+00],\n",
       "       [1.000000e+00, 2.140000e+01, 4.579600e+02],\n",
       "       [1.000000e+00, 3.200000e+00, 1.024000e+01],\n",
       "       [1.000000e+00, 4.510000e+01, 2.034010e+03],\n",
       "       [1.000000e+00, 1.660000e+01, 2.755600e+02],\n",
       "       [1.000000e+00, 4.960000e+01, 2.460160e+03],\n",
       "       [1.000000e+00, 5.470000e+01, 2.992090e+03],\n",
       "       [1.000000e+00, 8.400000e+00, 7.056000e+01],\n",
       "       [1.000000e+00, 1.160000e+01, 1.345600e+02],\n",
       "       [1.000000e+00, 8.100000e+00, 6.561000e+01],\n",
       "       [1.000000e+00, 7.560000e+01, 5.715360e+03],\n",
       "       [1.000000e+00, 1.600000e+01, 2.560000e+02],\n",
       "       [1.000000e+00, 5.900000e+00, 3.481000e+01],\n",
       "       [1.000000e+00, 1.100000e+01, 1.210000e+02],\n",
       "       [1.000000e+00, 3.460000e+01, 1.197160e+03],\n",
       "       [1.000000e+00, 3.790000e+01, 1.436410e+03],\n",
       "       [1.000000e+00, 2.430000e+01, 5.904900e+02],\n",
       "       [1.000000e+00, 5.050000e+01, 2.550250e+03],\n",
       "       [1.000000e+00, 1.700000e+00, 2.890000e+00],\n",
       "       [1.000000e+00, 8.700000e+00, 7.569000e+01],\n",
       "       [1.000000e+00, 1.009000e+02, 1.018081e+04],\n",
       "       [1.000000e+00, 5.340000e+01, 2.851560e+03],\n",
       "       [1.000000e+00, 2.370000e+01, 5.616900e+02],\n",
       "       [1.000000e+00, 1.950000e+01, 3.802500e+02],\n",
       "       [1.000000e+00, 6.560000e+01, 4.303360e+03],\n",
       "       [1.000000e+00, 3.170000e+01, 1.004890e+03],\n",
       "       [1.000000e+00, 4.310000e+01, 1.857610e+03],\n",
       "       [1.000000e+00, 3.890000e+01, 1.513210e+03],\n",
       "       [1.000000e+00, 3.160000e+01, 9.985600e+02],\n",
       "       [1.000000e+00, 2.310000e+01, 5.336100e+02],\n",
       "       [1.000000e+00, 4.510000e+01, 2.034010e+03],\n",
       "       [1.000000e+00, 5.970000e+01, 3.564090e+03],\n",
       "       [1.000000e+00, 1.930000e+01, 3.724900e+02],\n",
       "       [1.000000e+00, 1.290000e+01, 1.664100e+02],\n",
       "       [1.000000e+00, 4.570000e+01, 2.088490e+03]])"
      ]
     },
     "execution_count": 31,
     "metadata": {},
     "output_type": "execute_result"
    }
   ],
   "source": [
    "# PolynomialFeatures (prepreprocessing)\n",
    "poly = PolynomialFeatures(degree=2)\n",
    "X_train_poly = poly.fit_transform(X_train)\n",
    "X_test_poly = poly.fit_transform(X_test)\n",
    "X_train_poly"
   ]
  },
  {
   "cell_type": "code",
   "execution_count": 32,
   "metadata": {},
   "outputs": [
    {
     "data": {
      "text/plain": [
       "LinearRegression(copy_X=True, fit_intercept=True, n_jobs=None, normalize=False)"
      ]
     },
     "execution_count": 32,
     "metadata": {},
     "output_type": "execute_result"
    }
   ],
   "source": [
    "# Linear Regression Model\n",
    "linreg = LinearRegression()\n",
    "\n",
    "# fit the model to the training data (learn the coefficients)\n",
    "linreg.fit(X_train_poly, y_train)"
   ]
  },
  {
   "cell_type": "code",
   "execution_count": 33,
   "metadata": {},
   "outputs": [
    {
     "data": {
      "text/plain": [
       "array([13.9291775 , 13.53213867, 12.58034594, 13.00957544, 13.43847058,\n",
       "       16.62247939, 15.1937488 , 15.74810791, 14.15519621, 15.66427748,\n",
       "       14.69082078, 12.88580686, 12.52639645, 15.051486  , 15.55078735,\n",
       "       18.30963244, 13.71949773, 12.60200818, 12.61905469, 12.61905469,\n",
       "       12.5213416 , 24.24010308, 14.34937077, 12.65641211, 13.99311263,\n",
       "       13.20332599, 13.75221192, 13.07532916, 12.5213416 , 13.07532916,\n",
       "       12.89329887, 19.12495257, 12.55575116, 13.75880576, 12.96378733,\n",
       "       13.03541787, 12.71488539, 13.51424436, 13.28502466, 12.83876648])"
      ]
     },
     "execution_count": 33,
     "metadata": {},
     "output_type": "execute_result"
    }
   ],
   "source": [
    "# make predictions on the testing set\n",
    "y_pred = linreg.predict(X_test_poly)\n",
    "y_pred"
   ]
  },
  {
   "cell_type": "code",
   "execution_count": 34,
   "metadata": {},
   "outputs": [
    {
     "name": "stdout",
     "output_type": "stream",
     "text": [
      "RMSE= 4.936746647902734\n",
      "Rsquare= -0.3121144203407962\n"
     ]
    }
   ],
   "source": [
    "# compute the RMSE of our predictions\n",
    "print(\"RMSE=\",np.sqrt(metrics.mean_squared_error(y_test, y_pred)))\n",
    "print(\"Rsquare=\",metrics.r2_score(y_test,y_pred))"
   ]
  },
  {
   "cell_type": "code",
   "execution_count": 81,
   "metadata": {},
   "outputs": [
    {
     "data": {
      "text/html": [
       "<div>\n",
       "<style scoped>\n",
       "    .dataframe tbody tr th:only-of-type {\n",
       "        vertical-align: middle;\n",
       "    }\n",
       "\n",
       "    .dataframe tbody tr th {\n",
       "        vertical-align: top;\n",
       "    }\n",
       "\n",
       "    .dataframe thead th {\n",
       "        text-align: right;\n",
       "    }\n",
       "</style>\n",
       "<table border=\"1\" class=\"dataframe\">\n",
       "  <thead>\n",
       "    <tr style=\"text-align: right;\">\n",
       "      <th></th>\n",
       "      <th>Actual</th>\n",
       "      <th>Predicted</th>\n",
       "    </tr>\n",
       "  </thead>\n",
       "  <tbody>\n",
       "    <tr>\n",
       "      <td>59</td>\n",
       "      <td>23.8</td>\n",
       "      <td>19.204155</td>\n",
       "    </tr>\n",
       "    <tr>\n",
       "      <td>41</td>\n",
       "      <td>16.6</td>\n",
       "      <td>13.549819</td>\n",
       "    </tr>\n",
       "    <tr>\n",
       "      <td>35</td>\n",
       "      <td>9.5</td>\n",
       "      <td>9.486706</td>\n",
       "    </tr>\n",
       "    <tr>\n",
       "      <td>103</td>\n",
       "      <td>14.8</td>\n",
       "      <td>11.150059</td>\n",
       "    </tr>\n",
       "    <tr>\n",
       "      <td>185</td>\n",
       "      <td>17.6</td>\n",
       "      <td>13.350164</td>\n",
       "    </tr>\n",
       "    <tr>\n",
       "      <td>199</td>\n",
       "      <td>25.5</td>\n",
       "      <td>17.590570</td>\n",
       "    </tr>\n",
       "    <tr>\n",
       "      <td>96</td>\n",
       "      <td>16.9</td>\n",
       "      <td>15.431875</td>\n",
       "    </tr>\n",
       "    <tr>\n",
       "      <td>5</td>\n",
       "      <td>12.9</td>\n",
       "      <td>11.285627</td>\n",
       "    </tr>\n",
       "    <tr>\n",
       "      <td>30</td>\n",
       "      <td>10.5</td>\n",
       "      <td>12.300796</td>\n",
       "    </tr>\n",
       "    <tr>\n",
       "      <td>169</td>\n",
       "      <td>17.1</td>\n",
       "      <td>13.810159</td>\n",
       "    </tr>\n",
       "    <tr>\n",
       "      <td>172</td>\n",
       "      <td>14.5</td>\n",
       "      <td>13.270449</td>\n",
       "    </tr>\n",
       "    <tr>\n",
       "      <td>19</td>\n",
       "      <td>11.3</td>\n",
       "      <td>13.190819</td>\n",
       "    </tr>\n",
       "    <tr>\n",
       "      <td>12</td>\n",
       "      <td>17.4</td>\n",
       "      <td>13.890443</td>\n",
       "    </tr>\n",
       "    <tr>\n",
       "      <td>90</td>\n",
       "      <td>16.7</td>\n",
       "      <td>18.819237</td>\n",
       "    </tr>\n",
       "    <tr>\n",
       "      <td>111</td>\n",
       "      <td>13.4</td>\n",
       "      <td>10.783391</td>\n",
       "    </tr>\n",
       "    <tr>\n",
       "      <td>119</td>\n",
       "      <td>15.9</td>\n",
       "      <td>16.524851</td>\n",
       "    </tr>\n",
       "    <tr>\n",
       "      <td>160</td>\n",
       "      <td>12.9</td>\n",
       "      <td>12.774146</td>\n",
       "    </tr>\n",
       "    <tr>\n",
       "      <td>36</td>\n",
       "      <td>12.8</td>\n",
       "      <td>9.998647</td>\n",
       "    </tr>\n",
       "    <tr>\n",
       "      <td>137</td>\n",
       "      <td>9.5</td>\n",
       "      <td>16.962015</td>\n",
       "    </tr>\n",
       "    <tr>\n",
       "      <td>60</td>\n",
       "      <td>18.4</td>\n",
       "      <td>15.002907</td>\n",
       "    </tr>\n",
       "    <tr>\n",
       "      <td>52</td>\n",
       "      <td>10.7</td>\n",
       "      <td>11.053383</td>\n",
       "    </tr>\n",
       "    <tr>\n",
       "      <td>17</td>\n",
       "      <td>12.5</td>\n",
       "      <td>16.462589</td>\n",
       "    </tr>\n",
       "    <tr>\n",
       "      <td>45</td>\n",
       "      <td>8.5</td>\n",
       "      <td>14.232592</td>\n",
       "    </tr>\n",
       "    <tr>\n",
       "      <td>95</td>\n",
       "      <td>11.5</td>\n",
       "      <td>11.908659</td>\n",
       "    </tr>\n",
       "    <tr>\n",
       "      <td>32</td>\n",
       "      <td>11.9</td>\n",
       "      <td>12.576548</td>\n",
       "    </tr>\n",
       "    <tr>\n",
       "      <td>163</td>\n",
       "      <td>14.9</td>\n",
       "      <td>12.714811</td>\n",
       "    </tr>\n",
       "    <tr>\n",
       "      <td>39</td>\n",
       "      <td>10.1</td>\n",
       "      <td>14.434568</td>\n",
       "    </tr>\n",
       "    <tr>\n",
       "      <td>29</td>\n",
       "      <td>18.9</td>\n",
       "      <td>14.515506</td>\n",
       "    </tr>\n",
       "    <tr>\n",
       "      <td>194</td>\n",
       "      <td>19.6</td>\n",
       "      <td>17.590570</td>\n",
       "    </tr>\n",
       "    <tr>\n",
       "      <td>28</td>\n",
       "      <td>15.9</td>\n",
       "      <td>12.438543</td>\n",
       "    </tr>\n",
       "    <tr>\n",
       "      <td>48</td>\n",
       "      <td>23.2</td>\n",
       "      <td>17.485482</td>\n",
       "    </tr>\n",
       "    <tr>\n",
       "      <td>166</td>\n",
       "      <td>11.9</td>\n",
       "      <td>9.865552</td>\n",
       "    </tr>\n",
       "    <tr>\n",
       "      <td>195</td>\n",
       "      <td>17.3</td>\n",
       "      <td>16.255391</td>\n",
       "    </tr>\n",
       "    <tr>\n",
       "      <td>178</td>\n",
       "      <td>11.7</td>\n",
       "      <td>10.706440</td>\n",
       "    </tr>\n",
       "    <tr>\n",
       "      <td>177</td>\n",
       "      <td>20.2</td>\n",
       "      <td>15.145638</td>\n",
       "    </tr>\n",
       "    <tr>\n",
       "      <td>98</td>\n",
       "      <td>15.5</td>\n",
       "      <td>13.290370</td>\n",
       "    </tr>\n",
       "    <tr>\n",
       "      <td>175</td>\n",
       "      <td>11.5</td>\n",
       "      <td>9.865552</td>\n",
       "    </tr>\n",
       "    <tr>\n",
       "      <td>74</td>\n",
       "      <td>11.0</td>\n",
       "      <td>10.303833</td>\n",
       "    </tr>\n",
       "    <tr>\n",
       "      <td>70</td>\n",
       "      <td>22.3</td>\n",
       "      <td>17.991111</td>\n",
       "    </tr>\n",
       "    <tr>\n",
       "      <td>173</td>\n",
       "      <td>7.6</td>\n",
       "      <td>13.111273</td>\n",
       "    </tr>\n",
       "  </tbody>\n",
       "</table>\n",
       "</div>"
      ],
      "text/plain": [
       "     Actual  Predicted\n",
       "59     23.8  19.204155\n",
       "41     16.6  13.549819\n",
       "35      9.5   9.486706\n",
       "103    14.8  11.150059\n",
       "185    17.6  13.350164\n",
       "199    25.5  17.590570\n",
       "96     16.9  15.431875\n",
       "5      12.9  11.285627\n",
       "30     10.5  12.300796\n",
       "169    17.1  13.810159\n",
       "172    14.5  13.270449\n",
       "19     11.3  13.190819\n",
       "12     17.4  13.890443\n",
       "90     16.7  18.819237\n",
       "111    13.4  10.783391\n",
       "119    15.9  16.524851\n",
       "160    12.9  12.774146\n",
       "36     12.8   9.998647\n",
       "137     9.5  16.962015\n",
       "60     18.4  15.002907\n",
       "52     10.7  11.053383\n",
       "17     12.5  16.462589\n",
       "45      8.5  14.232592\n",
       "95     11.5  11.908659\n",
       "32     11.9  12.576548\n",
       "163    14.9  12.714811\n",
       "39     10.1  14.434568\n",
       "29     18.9  14.515506\n",
       "194    19.6  17.590570\n",
       "28     15.9  12.438543\n",
       "48     23.2  17.485482\n",
       "166    11.9   9.865552\n",
       "195    17.3  16.255391\n",
       "178    11.7  10.706440\n",
       "177    20.2  15.145638\n",
       "98     15.5  13.290370\n",
       "175    11.5   9.865552\n",
       "74     11.0  10.303833\n",
       "70     22.3  17.991111\n",
       "173     7.6  13.111273"
      ]
     },
     "execution_count": 81,
     "metadata": {},
     "output_type": "execute_result"
    }
   ],
   "source": [
    "df_predicted=pd.DataFrame()\n",
    "df_predicted['Actual']=y_test\n",
    "df_predicted['Predicted']=y_pred\n",
    "df_predicted"
   ]
  },
  {
   "cell_type": "code",
   "execution_count": 35,
   "metadata": {},
   "outputs": [
    {
     "data": {
      "image/png": "[encoded data removed]",
      "text/plain": [
       "<Figure size 432x288 with 1 Axes>"
      ]
     },
     "metadata": {
      "needs_background": "light"
     },
     "output_type": "display_data"
    }
   ],
   "source": [
    "%matplotlib inline\n",
    "import matplotlib.pyplot as plt\n",
    "import numpy as np\n",
    "\n",
    "x=np.arange(1,len(y_test)+1)\n",
    "\n",
    "plt.plot(x,y_test,label='Actual')\n",
    "plt.plot(x,y_pred,label='Predicted')\n",
    "plt.title(\"Actual Vs Predicted (Test set)\")\n",
    "plt.legend(loc=\"best\")\n",
    "plt.grid(True)"
   ]
  }
 ],
 "metadata": {
  "kernelspec": {
   "display_name": "Python 3",
   "language": "python",
   "name": "python3"
  },
  "language_info": {
   "codemirror_mode": {
    "name": "ipython",
    "version": 3
   },
   "file_extension": ".py",
   "mimetype": "text/x-python",
   "name": "python",
   "nbconvert_exporter": "python",
   "pygments_lexer": "ipython3",
   "version": "3.7.4"
  }
 },
 "nbformat": 4,
 "nbformat_minor": 2
}
