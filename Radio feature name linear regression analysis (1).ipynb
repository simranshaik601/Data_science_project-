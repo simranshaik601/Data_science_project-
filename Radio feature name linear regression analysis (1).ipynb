{
 "cells": [
  {
   "cell_type": "code",
   "execution_count": 62,
   "metadata": {},
   "outputs": [],
   "source": [
    "import numpy as np\n",
    "import pandas as pd\n",
    "\n",
    "import os\n",
    "\n",
    "# import model related libraries\n",
    "from sklearn.linear_model import LinearRegression\n",
    "from sklearn.model_selection import train_test_split\n",
    "\n",
    "# import module to calculate model perfomance metrics\n",
    "from sklearn import metrics"
   ]
  },
  {
   "cell_type": "code",
   "execution_count": 40,
   "metadata": {},
   "outputs": [],
   "source": [
    "#data_path = \"data/Advertising.csv\" # or load the dataset directly from the link\n",
    "#data_link = \"http://www-bcf.usc.edu/~gareth/ISL/Advertising.csv\"\n",
    "\n",
    "#Step 1: get the data (read the csv file)\n",
    "path = r'C:\\Users\\14438\\Downloads'\n",
    "os.chdir(path)\n",
    "data = pd.read_csv('Advertising.csv', index_col=0 , error_bad_lines = False)"
   ]
  },
  {
   "cell_type": "code",
   "execution_count": 41,
   "metadata": {},
   "outputs": [
    {
     "data": {
      "text/html": [
       "<div>\n",
       "<style scoped>\n",
       "    .dataframe tbody tr th:only-of-type {\n",
       "        vertical-align: middle;\n",
       "    }\n",
       "\n",
       "    .dataframe tbody tr th {\n",
       "        vertical-align: top;\n",
       "    }\n",
       "\n",
       "    .dataframe thead th {\n",
       "        text-align: right;\n",
       "    }\n",
       "</style>\n",
       "<table border=\"1\" class=\"dataframe\">\n",
       "  <thead>\n",
       "    <tr style=\"text-align: right;\">\n",
       "      <th></th>\n",
       "      <th>TV</th>\n",
       "      <th>Radio</th>\n",
       "      <th>Newspaper</th>\n",
       "      <th>Sales</th>\n",
       "    </tr>\n",
       "  </thead>\n",
       "  <tbody>\n",
       "    <tr>\n",
       "      <td>1</td>\n",
       "      <td>230.1</td>\n",
       "      <td>37.8</td>\n",
       "      <td>69.2</td>\n",
       "      <td>22.1</td>\n",
       "    </tr>\n",
       "    <tr>\n",
       "      <td>2</td>\n",
       "      <td>44.5</td>\n",
       "      <td>39.3</td>\n",
       "      <td>45.1</td>\n",
       "      <td>10.4</td>\n",
       "    </tr>\n",
       "    <tr>\n",
       "      <td>3</td>\n",
       "      <td>17.2</td>\n",
       "      <td>45.9</td>\n",
       "      <td>69.3</td>\n",
       "      <td>9.3</td>\n",
       "    </tr>\n",
       "    <tr>\n",
       "      <td>4</td>\n",
       "      <td>151.5</td>\n",
       "      <td>41.3</td>\n",
       "      <td>58.5</td>\n",
       "      <td>18.5</td>\n",
       "    </tr>\n",
       "    <tr>\n",
       "      <td>5</td>\n",
       "      <td>180.8</td>\n",
       "      <td>10.8</td>\n",
       "      <td>58.4</td>\n",
       "      <td>12.9</td>\n",
       "    </tr>\n",
       "    <tr>\n",
       "      <td>...</td>\n",
       "      <td>...</td>\n",
       "      <td>...</td>\n",
       "      <td>...</td>\n",
       "      <td>...</td>\n",
       "    </tr>\n",
       "    <tr>\n",
       "      <td>196</td>\n",
       "      <td>38.2</td>\n",
       "      <td>3.7</td>\n",
       "      <td>13.8</td>\n",
       "      <td>7.6</td>\n",
       "    </tr>\n",
       "    <tr>\n",
       "      <td>197</td>\n",
       "      <td>94.2</td>\n",
       "      <td>4.9</td>\n",
       "      <td>8.1</td>\n",
       "      <td>9.7</td>\n",
       "    </tr>\n",
       "    <tr>\n",
       "      <td>198</td>\n",
       "      <td>177.0</td>\n",
       "      <td>9.3</td>\n",
       "      <td>6.4</td>\n",
       "      <td>12.8</td>\n",
       "    </tr>\n",
       "    <tr>\n",
       "      <td>199</td>\n",
       "      <td>283.6</td>\n",
       "      <td>42.0</td>\n",
       "      <td>66.2</td>\n",
       "      <td>25.5</td>\n",
       "    </tr>\n",
       "    <tr>\n",
       "      <td>200</td>\n",
       "      <td>232.1</td>\n",
       "      <td>8.6</td>\n",
       "      <td>8.7</td>\n",
       "      <td>13.4</td>\n",
       "    </tr>\n",
       "  </tbody>\n",
       "</table>\n",
       "<p>200 rows × 4 columns</p>\n",
       "</div>"
      ],
      "text/plain": [
       "        TV  Radio  Newspaper  Sales\n",
       "1    230.1   37.8       69.2   22.1\n",
       "2     44.5   39.3       45.1   10.4\n",
       "3     17.2   45.9       69.3    9.3\n",
       "4    151.5   41.3       58.5   18.5\n",
       "5    180.8   10.8       58.4   12.9\n",
       "..     ...    ...        ...    ...\n",
       "196   38.2    3.7       13.8    7.6\n",
       "197   94.2    4.9        8.1    9.7\n",
       "198  177.0    9.3        6.4   12.8\n",
       "199  283.6   42.0       66.2   25.5\n",
       "200  232.1    8.6        8.7   13.4\n",
       "\n",
       "[200 rows x 4 columns]"
      ]
     },
     "execution_count": 41,
     "metadata": {},
     "output_type": "execute_result"
    }
   ],
   "source": [
    "data"
   ]
  },
  {
   "cell_type": "code",
   "execution_count": 42,
   "metadata": {},
   "outputs": [],
   "source": [
    "data.reset_index(drop =True , inplace = True)"
   ]
  },
  {
   "cell_type": "code",
   "execution_count": 43,
   "metadata": {},
   "outputs": [
    {
     "data": {
      "text/plain": [
       "(200, 4)"
      ]
     },
     "execution_count": 43,
     "metadata": {},
     "output_type": "execute_result"
    }
   ],
   "source": [
    "data.shape"
   ]
  },
  {
   "cell_type": "code",
   "execution_count": 45,
   "metadata": {},
   "outputs": [],
   "source": [
    "#Step 2: select independent(X) and dependent variable (y)\n",
    "# create a Python list of feature names\n",
    "feature_names=['Radio']\n",
    "\n",
    "# use the list to select a subset of the original DataFrame\n",
    "X = data[feature_names]\n",
    "\n",
    "# sales\n",
    "y = data.Sales"
   ]
  },
  {
   "cell_type": "code",
   "execution_count": 46,
   "metadata": {},
   "outputs": [
    {
     "data": {
      "text/plain": [
       "0      22.1\n",
       "1      10.4\n",
       "2       9.3\n",
       "3      18.5\n",
       "4      12.9\n",
       "       ... \n",
       "195     7.6\n",
       "196     9.7\n",
       "197    12.8\n",
       "198    25.5\n",
       "199    13.4\n",
       "Name: Sales, Length: 200, dtype: float64"
      ]
     },
     "execution_count": 46,
     "metadata": {},
     "output_type": "execute_result"
    }
   ],
   "source": [
    "y"
   ]
  },
  {
   "cell_type": "code",
   "execution_count": 48,
   "metadata": {},
   "outputs": [],
   "source": [
    "# Step 3: Splitting X and y into training and testing sets\n",
    "X_train, X_test, y_train, y_test = train_test_split(X, y, random_state=1,test_size=0.20)"
   ]
  },
  {
   "cell_type": "code",
   "execution_count": 49,
   "metadata": {},
   "outputs": [
    {
     "data": {
      "text/plain": [
       "58     23.8\n",
       "40     16.6\n",
       "34      9.5\n",
       "102    14.8\n",
       "184    17.6\n",
       "198    25.5\n",
       "95     16.9\n",
       "4      12.9\n",
       "29     10.5\n",
       "168    17.1\n",
       "171    14.5\n",
       "18     11.3\n",
       "11     17.4\n",
       "89     16.7\n",
       "110    13.4\n",
       "118    15.9\n",
       "159    12.9\n",
       "35     12.8\n",
       "136     9.5\n",
       "59     18.4\n",
       "51     10.7\n",
       "16     12.5\n",
       "44      8.5\n",
       "94     11.5\n",
       "31     11.9\n",
       "162    14.9\n",
       "38     10.1\n",
       "28     18.9\n",
       "193    19.6\n",
       "27     15.9\n",
       "47     23.2\n",
       "165    11.9\n",
       "194    17.3\n",
       "177    11.7\n",
       "176    20.2\n",
       "97     15.5\n",
       "174    11.5\n",
       "73     11.0\n",
       "69     22.3\n",
       "172     7.6\n",
       "Name: Sales, dtype: float64"
      ]
     },
     "execution_count": 49,
     "metadata": {},
     "output_type": "execute_result"
    }
   ],
   "source": [
    "y_test"
   ]
  },
  {
   "cell_type": "code",
   "execution_count": 50,
   "metadata": {},
   "outputs": [
    {
     "data": {
      "text/plain": [
       "LinearRegression(copy_X=True, fit_intercept=True, n_jobs=None, normalize=False)"
      ]
     },
     "execution_count": 50,
     "metadata": {},
     "output_type": "execute_result"
    }
   ],
   "source": [
    "# Step 4: Fit linear regression model to trainingset\n",
    "# Linear Regression Model\n",
    "linreg = LinearRegression()\n",
    "\n",
    "# fit the model to the training data (learn the coefficients)\n",
    "linreg.fit(X_train, y_train)"
   ]
  },
  {
   "cell_type": "code",
   "execution_count": 51,
   "metadata": {},
   "outputs": [
    {
     "name": "stdout",
     "output_type": "stream",
     "text": [
      "Intercept= 9.1341254885822\n",
      "Slope= [0.20071881]\n"
     ]
    }
   ],
   "source": [
    "print(\"Intercept=\",linreg.intercept_)\n",
    "print(\"Slope=\",linreg.coef_)"
   ]
  },
  {
   "cell_type": "code",
   "execution_count": 52,
   "metadata": {},
   "outputs": [
    {
     "data": {
      "text/plain": [
       "(array([74.61801398]), array([5.92023347e-15]))"
      ]
     },
     "execution_count": 52,
     "metadata": {},
     "output_type": "execute_result"
    }
   ],
   "source": [
    "from sklearn.feature_selection import f_regression\n",
    "fregression=f_regression(X_train, y_train) #returns Fvalues of features; p values of features\n",
    "fregression"
   ]
  },
  {
   "cell_type": "code",
   "execution_count": 55,
   "metadata": {},
   "outputs": [
    {
     "data": {
      "text/plain": [
       "array([19.08977823, 13.61015485,  9.41513182, 11.16138542, 13.40943604,\n",
       "       17.56431531, 15.47683974, 11.30188859, 12.34562637, 13.87108929,\n",
       "       13.32914852, 13.248861  , 13.95137682, 18.72848438, 10.78001969,\n",
       "       16.5406494 , 12.82735151,  9.95707259, 16.9621589 , 15.05533025,\n",
       "       11.06102602, 16.48043376, 14.29259878, 11.94418876, 12.6266327 ,\n",
       "       12.76713586, 14.49331759, 14.57360511, 17.56431531, 12.48612954,\n",
       "       17.46395591,  9.81656943, 16.27971496, 10.69973217, 15.19583341,\n",
       "       13.3492204 ,  9.81656943, 10.27822268, 17.94568104, 13.16857348])"
      ]
     },
     "execution_count": 55,
     "metadata": {},
     "output_type": "execute_result"
    }
   ],
   "source": [
    "#Step 5: Test the model's generalization ability using testset\n",
    "# make predictions on the testing set\n",
    "y_pred = linreg.predict(X_test)\n",
    "y_pred"
   ]
  },
  {
   "cell_type": "code",
   "execution_count": 56,
   "metadata": {},
   "outputs": [
    {
     "name": "stdout",
     "output_type": "stream",
     "text": [
      "RMSE= 3.455522114906106\n",
      "Rsquare= 0.35713855215895074\n"
     ]
    }
   ],
   "source": [
    "# Step 6: Compute the performance of the model using metrics\n",
    "print(\"RMSE=\", np.sqrt(metrics.mean_squared_error(y_test, y_pred)))\n",
    "print(\"Rsquare=\",metrics.r2_score(y_test,y_pred))"
   ]
  },
  {
   "cell_type": "code",
   "execution_count": 57,
   "metadata": {},
   "outputs": [
    {
     "data": {
      "text/html": [
       "<div>\n",
       "<style scoped>\n",
       "    .dataframe tbody tr th:only-of-type {\n",
       "        vertical-align: middle;\n",
       "    }\n",
       "\n",
       "    .dataframe tbody tr th {\n",
       "        vertical-align: top;\n",
       "    }\n",
       "\n",
       "    .dataframe thead th {\n",
       "        text-align: right;\n",
       "    }\n",
       "</style>\n",
       "<table border=\"1\" class=\"dataframe\">\n",
       "  <thead>\n",
       "    <tr style=\"text-align: right;\">\n",
       "      <th></th>\n",
       "      <th>Predicted</th>\n",
       "    </tr>\n",
       "  </thead>\n",
       "  <tbody>\n",
       "    <tr>\n",
       "      <td>0</td>\n",
       "      <td>19.089778</td>\n",
       "    </tr>\n",
       "    <tr>\n",
       "      <td>1</td>\n",
       "      <td>13.610155</td>\n",
       "    </tr>\n",
       "    <tr>\n",
       "      <td>2</td>\n",
       "      <td>9.415132</td>\n",
       "    </tr>\n",
       "    <tr>\n",
       "      <td>3</td>\n",
       "      <td>11.161385</td>\n",
       "    </tr>\n",
       "    <tr>\n",
       "      <td>4</td>\n",
       "      <td>13.409436</td>\n",
       "    </tr>\n",
       "  </tbody>\n",
       "</table>\n",
       "</div>"
      ],
      "text/plain": [
       "   Predicted\n",
       "0  19.089778\n",
       "1  13.610155\n",
       "2   9.415132\n",
       "3  11.161385\n",
       "4  13.409436"
      ]
     },
     "execution_count": 57,
     "metadata": {},
     "output_type": "execute_result"
    }
   ],
   "source": [
    "df_predicted=pd.DataFrame()\n",
    "#df_predicted['Actual']=y_test\n",
    "df_predicted['Predicted']=y_pred\n",
    "df_predicted.head()"
   ]
  },
  {
   "cell_type": "code",
   "execution_count": 58,
   "metadata": {},
   "outputs": [
    {
     "data": {
      "image/png": "[encoded data removed]",
      "text/plain": [
       "<Figure size 432x288 with 1 Axes>"
      ]
     },
     "metadata": {
      "needs_background": "light"
     },
     "output_type": "display_data"
    }
   ],
   "source": [
    "%matplotlib inline\n",
    "import matplotlib.pyplot as plt\n",
    "import numpy as np\n",
    "\n",
    "x=np.arange(1,len(y_test)+1)\n",
    "\n",
    "plt.plot(x,y_test,label='Actual')\n",
    "plt.plot(x,y_pred,label='Predicted')\n",
    "plt.title(\"Actual Vs Predicted (Test set)\")\n",
    "plt.legend(loc=\"best\")\n",
    "plt.grid(True)"
   ]
  },
  {
   "cell_type": "code",
   "execution_count": null,
   "metadata": {},
   "outputs": [],
   "source": []
  },
  {
   "cell_type": "code",
   "execution_count": 59,
   "metadata": {},
   "outputs": [],
   "source": [
    "import numpy as np\n",
    "import pandas as pd\n",
    "\n",
    "# import library for splitting data\n",
    "from sklearn.model_selection import train_test_split\n",
    "\n",
    "# import module to calculate model perfomance metrics\n",
    "from sklearn import metrics\n",
    "\n",
    "# Import libraries for Polynomial regression\n",
    "from sklearn.preprocessing import PolynomialFeatures\n",
    "from sklearn.linear_model import LinearRegression"
   ]
  },
  {
   "cell_type": "code",
   "execution_count": 60,
   "metadata": {},
   "outputs": [
    {
     "data": {
      "text/html": [
       "<div>\n",
       "<style scoped>\n",
       "    .dataframe tbody tr th:only-of-type {\n",
       "        vertical-align: middle;\n",
       "    }\n",
       "\n",
       "    .dataframe tbody tr th {\n",
       "        vertical-align: top;\n",
       "    }\n",
       "\n",
       "    .dataframe thead th {\n",
       "        text-align: right;\n",
       "    }\n",
       "</style>\n",
       "<table border=\"1\" class=\"dataframe\">\n",
       "  <thead>\n",
       "    <tr style=\"text-align: right;\">\n",
       "      <th></th>\n",
       "      <th>TV</th>\n",
       "      <th>Radio</th>\n",
       "      <th>Newspaper</th>\n",
       "      <th>Sales</th>\n",
       "    </tr>\n",
       "  </thead>\n",
       "  <tbody>\n",
       "    <tr>\n",
       "      <td>0</td>\n",
       "      <td>230.1</td>\n",
       "      <td>37.8</td>\n",
       "      <td>69.2</td>\n",
       "      <td>22.1</td>\n",
       "    </tr>\n",
       "    <tr>\n",
       "      <td>1</td>\n",
       "      <td>44.5</td>\n",
       "      <td>39.3</td>\n",
       "      <td>45.1</td>\n",
       "      <td>10.4</td>\n",
       "    </tr>\n",
       "    <tr>\n",
       "      <td>2</td>\n",
       "      <td>17.2</td>\n",
       "      <td>45.9</td>\n",
       "      <td>69.3</td>\n",
       "      <td>9.3</td>\n",
       "    </tr>\n",
       "    <tr>\n",
       "      <td>3</td>\n",
       "      <td>151.5</td>\n",
       "      <td>41.3</td>\n",
       "      <td>58.5</td>\n",
       "      <td>18.5</td>\n",
       "    </tr>\n",
       "    <tr>\n",
       "      <td>4</td>\n",
       "      <td>180.8</td>\n",
       "      <td>10.8</td>\n",
       "      <td>58.4</td>\n",
       "      <td>12.9</td>\n",
       "    </tr>\n",
       "  </tbody>\n",
       "</table>\n",
       "</div>"
      ],
      "text/plain": [
       "      TV  Radio  Newspaper  Sales\n",
       "0  230.1   37.8       69.2   22.1\n",
       "1   44.5   39.3       45.1   10.4\n",
       "2   17.2   45.9       69.3    9.3\n",
       "3  151.5   41.3       58.5   18.5\n",
       "4  180.8   10.8       58.4   12.9"
      ]
     },
     "execution_count": 60,
     "metadata": {},
     "output_type": "execute_result"
    }
   ],
   "source": [
    "data.head()"
   ]
  },
  {
   "cell_type": "code",
   "execution_count": 63,
   "metadata": {},
   "outputs": [],
   "source": [
    "#data_path = \"data/Advertising.csv\" # or load the dataset directly from the link\n",
    "#data_link = \"http://www-bcf.usc.edu/~gareth/ISL/Advertising.csv\"\n",
    "\n",
    "#Step 1: get the data (read the csv file)\n",
    "path = r'C:\\Users\\14438\\Downloads'\n",
    "os.chdir(path)\n",
    "data = pd.read_csv('Advertising.csv', index_col=0 , error_bad_lines = False)"
   ]
  },
  {
   "cell_type": "code",
   "execution_count": 71,
   "metadata": {},
   "outputs": [],
   "source": [
    "# create a Python list of feature names\n",
    "feature_names=['Radio']\n",
    "\n",
    "# use the list to select a subset of the original DataFrame\n",
    "X = data[feature_names]\n",
    "\n",
    "# sales\n",
    "y = data.Sales\n",
    "\n"
   ]
  },
  {
   "cell_type": "code",
   "execution_count": 73,
   "metadata": {},
   "outputs": [],
   "source": [
    "# Splitting X and y into training and testing sets\n",
    "X_train, X_test, y_train, y_test = train_test_split(X, y, random_state=1,test_size=0.20)"
   ]
  },
  {
   "cell_type": "code",
   "execution_count": 74,
   "metadata": {},
   "outputs": [
    {
     "data": {
      "text/plain": [
       "array([[1.00000e+00, 4.00000e-01, 1.60000e-01],\n",
       "       [1.00000e+00, 3.00000e-01, 9.00000e-02],\n",
       "       [1.00000e+00, 1.21000e+01, 1.46410e+02],\n",
       "       [1.00000e+00, 3.29000e+01, 1.08241e+03],\n",
       "       [1.00000e+00, 2.81000e+01, 7.89610e+02],\n",
       "       [1.00000e+00, 2.39000e+01, 5.71210e+02],\n",
       "       [1.00000e+00, 4.68000e+01, 2.19024e+03],\n",
       "       [1.00000e+00, 3.77000e+01, 1.42129e+03],\n",
       "       [1.00000e+00, 4.51000e+01, 2.03401e+03],\n",
       "       [1.00000e+00, 3.23000e+01, 1.04329e+03],\n",
       "       [1.00000e+00, 4.23000e+01, 1.78929e+03],\n",
       "       [1.00000e+00, 3.46000e+01, 1.19716e+03],\n",
       "       [1.00000e+00, 1.60000e+01, 2.56000e+02],\n",
       "       [1.00000e+00, 4.62000e+01, 2.13444e+03],\n",
       "       [1.00000e+00, 2.00000e+01, 4.00000e+02],\n",
       "       [1.00000e+00, 1.00000e+01, 1.00000e+02],\n",
       "       [1.00000e+00, 5.40000e+00, 2.91600e+01],\n",
       "       [1.00000e+00, 1.10000e+01, 1.21000e+02],\n",
       "       [1.00000e+00, 8.60000e+00, 7.39600e+01],\n",
       "       [1.00000e+00, 2.59000e+01, 6.70810e+02],\n",
       "       [1.00000e+00, 1.43000e+01, 2.04490e+02],\n",
       "       [1.00000e+00, 1.45000e+01, 2.10250e+02],\n",
       "       [1.00000e+00, 2.99000e+01, 8.94010e+02],\n",
       "       [1.00000e+00, 2.77000e+01, 7.67290e+02],\n",
       "       [1.00000e+00, 3.96000e+01, 1.56816e+03],\n",
       "       [1.00000e+00, 4.89000e+01, 2.39121e+03],\n",
       "       [1.00000e+00, 0.00000e+00, 0.00000e+00],\n",
       "       [1.00000e+00, 4.64000e+01, 2.15296e+03],\n",
       "       [1.00000e+00, 1.58000e+01, 2.49640e+02],\n",
       "       [1.00000e+00, 2.46000e+01, 6.05160e+02],\n",
       "       [1.00000e+00, 2.88000e+01, 8.29440e+02],\n",
       "       [1.00000e+00, 4.30000e+01, 1.84900e+03],\n",
       "       [1.00000e+00, 4.30000e+01, 1.84900e+03],\n",
       "       [1.00000e+00, 3.69000e+01, 1.36161e+03],\n",
       "       [1.00000e+00, 3.76000e+01, 1.41376e+03],\n",
       "       [1.00000e+00, 2.06000e+01, 4.24360e+02],\n",
       "       [1.00000e+00, 3.51000e+01, 1.23201e+03],\n",
       "       [1.00000e+00, 8.00000e-01, 6.40000e-01],\n",
       "       [1.00000e+00, 3.65000e+01, 1.33225e+03],\n",
       "       [1.00000e+00, 2.68000e+01, 7.18240e+02],\n",
       "       [1.00000e+00, 2.11000e+01, 4.45210e+02],\n",
       "       [1.00000e+00, 4.90000e+00, 2.40100e+01],\n",
       "       [1.00000e+00, 4.10000e+00, 1.68100e+01],\n",
       "       [1.00000e+00, 2.40000e+00, 5.76000e+00],\n",
       "       [1.00000e+00, 1.08000e+01, 1.16640e+02],\n",
       "       [1.00000e+00, 7.60000e+00, 5.77600e+01],\n",
       "       [1.00000e+00, 2.03000e+01, 4.12090e+02],\n",
       "       [1.00000e+00, 2.72000e+01, 7.39840e+02],\n",
       "       [1.00000e+00, 2.87000e+01, 8.23690e+02],\n",
       "       [1.00000e+00, 2.25000e+01, 5.06250e+02],\n",
       "       [1.00000e+00, 4.17000e+01, 1.73889e+03],\n",
       "       [1.00000e+00, 4.38000e+01, 1.91844e+03],\n",
       "       [1.00000e+00, 3.58000e+01, 1.28164e+03],\n",
       "       [1.00000e+00, 2.10000e+00, 4.41000e+00],\n",
       "       [1.00000e+00, 3.97000e+01, 1.57609e+03],\n",
       "       [1.00000e+00, 1.72000e+01, 2.95840e+02],\n",
       "       [1.00000e+00, 3.70000e+00, 1.36900e+01],\n",
       "       [1.00000e+00, 9.30000e+00, 8.64900e+01],\n",
       "       [1.00000e+00, 4.03000e+01, 1.62409e+03],\n",
       "       [1.00000e+00, 7.10000e+00, 5.04100e+01],\n",
       "       [1.00000e+00, 4.37000e+01, 1.90969e+03],\n",
       "       [1.00000e+00, 5.10000e+00, 2.60100e+01],\n",
       "       [1.00000e+00, 1.50000e+00, 2.25000e+00],\n",
       "       [1.00000e+00, 2.33000e+01, 5.42890e+02],\n",
       "       [1.00000e+00, 4.59000e+01, 2.10681e+03],\n",
       "       [1.00000e+00, 3.06000e+01, 9.36360e+02],\n",
       "       [1.00000e+00, 1.84000e+01, 3.38560e+02],\n",
       "       [1.00000e+00, 1.39000e+01, 1.93210e+02],\n",
       "       [1.00000e+00, 3.28000e+01, 1.07584e+03],\n",
       "       [1.00000e+00, 1.54000e+01, 2.37160e+02],\n",
       "       [1.00000e+00, 3.78000e+01, 1.42884e+03],\n",
       "       [1.00000e+00, 1.16000e+01, 1.34560e+02],\n",
       "       [1.00000e+00, 2.85000e+01, 8.12250e+02],\n",
       "       [1.00000e+00, 9.30000e+00, 8.64900e+01],\n",
       "       [1.00000e+00, 4.94000e+01, 2.44036e+03],\n",
       "       [1.00000e+00, 5.20000e+00, 2.70400e+01],\n",
       "       [1.00000e+00, 2.55000e+01, 6.50250e+02],\n",
       "       [1.00000e+00, 3.96000e+01, 1.56816e+03],\n",
       "       [1.00000e+00, 9.90000e+00, 9.80100e+01],\n",
       "       [1.00000e+00, 1.55000e+01, 2.40250e+02],\n",
       "       [1.00000e+00, 2.46000e+01, 6.05160e+02],\n",
       "       [1.00000e+00, 3.35000e+01, 1.12225e+03],\n",
       "       [1.00000e+00, 4.90000e+01, 2.40100e+03],\n",
       "       [1.00000e+00, 1.81000e+01, 3.27610e+02],\n",
       "       [1.00000e+00, 5.70000e+00, 3.24900e+01],\n",
       "       [1.00000e+00, 4.06000e+01, 1.64836e+03],\n",
       "       [1.00000e+00, 2.60000e+00, 6.76000e+00],\n",
       "       [1.00000e+00, 1.90000e+00, 3.61000e+00],\n",
       "       [1.00000e+00, 1.47000e+01, 2.16090e+02],\n",
       "       [1.00000e+00, 5.80000e+00, 3.36400e+01],\n",
       "       [1.00000e+00, 1.50000e+00, 2.25000e+00],\n",
       "       [1.00000e+00, 4.45000e+01, 1.98025e+03],\n",
       "       [1.00000e+00, 5.70000e+00, 3.24900e+01],\n",
       "       [1.00000e+00, 4.30000e+00, 1.84900e+01],\n",
       "       [1.00000e+00, 1.18000e+01, 1.39240e+02],\n",
       "       [1.00000e+00, 1.69000e+01, 2.85610e+02],\n",
       "       [1.00000e+00, 3.89000e+01, 1.51321e+03],\n",
       "       [1.00000e+00, 2.60000e+00, 6.76000e+00],\n",
       "       [1.00000e+00, 1.16000e+01, 1.34560e+02],\n",
       "       [1.00000e+00, 3.43000e+01, 1.17649e+03],\n",
       "       [1.00000e+00, 8.40000e+00, 7.05600e+01],\n",
       "       [1.00000e+00, 4.70000e+01, 2.20900e+03],\n",
       "       [1.00000e+00, 3.80000e+01, 1.44400e+03],\n",
       "       [1.00000e+00, 1.39000e+01, 1.93210e+02],\n",
       "       [1.00000e+00, 4.28000e+01, 1.83184e+03],\n",
       "       [1.00000e+00, 4.77000e+01, 2.27529e+03],\n",
       "       [1.00000e+00, 3.34000e+01, 1.11556e+03],\n",
       "       [1.00000e+00, 3.68000e+01, 1.35424e+03],\n",
       "       [1.00000e+00, 2.69000e+01, 7.23610e+02],\n",
       "       [1.00000e+00, 2.67000e+01, 7.12890e+02],\n",
       "       [1.00000e+00, 4.17000e+01, 1.73889e+03],\n",
       "       [1.00000e+00, 2.93000e+01, 8.58490e+02],\n",
       "       [1.00000e+00, 1.60000e+00, 2.56000e+00],\n",
       "       [1.00000e+00, 8.40000e+00, 7.05600e+01],\n",
       "       [1.00000e+00, 1.26000e+01, 1.58760e+02],\n",
       "       [1.00000e+00, 4.13000e+01, 1.70569e+03],\n",
       "       [1.00000e+00, 1.06000e+01, 1.12360e+02],\n",
       "       [1.00000e+00, 1.17000e+01, 1.36890e+02],\n",
       "       [1.00000e+00, 2.58000e+01, 6.65640e+02],\n",
       "       [1.00000e+00, 2.90000e+00, 8.41000e+00],\n",
       "       [1.00000e+00, 4.11000e+01, 1.68921e+03],\n",
       "       [1.00000e+00, 2.83000e+01, 8.00890e+02],\n",
       "       [1.00000e+00, 2.17000e+01, 4.70890e+02],\n",
       "       [1.00000e+00, 3.50000e+01, 1.22500e+03],\n",
       "       [1.00000e+00, 4.89000e+01, 2.39121e+03],\n",
       "       [1.00000e+00, 2.10000e+00, 4.41000e+00],\n",
       "       [1.00000e+00, 2.00000e+00, 4.00000e+00],\n",
       "       [1.00000e+00, 4.90000e+01, 2.40100e+03],\n",
       "       [1.00000e+00, 3.93000e+01, 1.54449e+03],\n",
       "       [1.00000e+00, 1.92000e+01, 3.68640e+02],\n",
       "       [1.00000e+00, 1.59000e+01, 2.52810e+02],\n",
       "       [1.00000e+00, 4.27000e+01, 1.82329e+03],\n",
       "       [1.00000e+00, 2.96000e+01, 8.76160e+02],\n",
       "       [1.00000e+00, 1.96000e+01, 3.84160e+02],\n",
       "       [1.00000e+00, 4.90000e+00, 2.40100e+01],\n",
       "       [1.00000e+00, 3.54000e+01, 1.25316e+03],\n",
       "       [1.00000e+00, 2.75000e+01, 7.56250e+02],\n",
       "       [1.00000e+00, 3.50000e+00, 1.22500e+01],\n",
       "       [1.00000e+00, 2.75000e+01, 7.56250e+02],\n",
       "       [1.00000e+00, 3.10000e+00, 9.61000e+00],\n",
       "       [1.00000e+00, 3.32000e+01, 1.10224e+03],\n",
       "       [1.00000e+00, 1.30000e+00, 1.69000e+00],\n",
       "       [1.00000e+00, 4.35000e+01, 1.89225e+03],\n",
       "       [1.00000e+00, 4.39000e+01, 1.92721e+03],\n",
       "       [1.00000e+00, 7.30000e+00, 5.32900e+01],\n",
       "       [1.00000e+00, 3.63000e+01, 1.31769e+03],\n",
       "       [1.00000e+00, 2.77000e+01, 7.67290e+02],\n",
       "       [1.00000e+00, 2.30000e+00, 5.29000e+00],\n",
       "       [1.00000e+00, 3.50000e+00, 1.22500e+01],\n",
       "       [1.00000e+00, 3.86000e+01, 1.48996e+03],\n",
       "       [1.00000e+00, 1.43000e+01, 2.04490e+02],\n",
       "       [1.00000e+00, 1.20000e+01, 1.44000e+02],\n",
       "       [1.00000e+00, 1.48000e+01, 2.19040e+02],\n",
       "       [1.00000e+00, 4.10000e+00, 1.68100e+01],\n",
       "       [1.00000e+00, 7.70000e+00, 5.92900e+01],\n",
       "       [1.00000e+00, 3.35000e+01, 1.12225e+03],\n",
       "       [1.00000e+00, 2.89000e+01, 8.35210e+02],\n",
       "       [1.00000e+00, 3.30000e+01, 1.08900e+03],\n",
       "       [1.00000e+00, 1.70000e+01, 2.89000e+02],\n",
       "       [1.00000e+00, 4.94000e+01, 2.44036e+03]])"
      ]
     },
     "execution_count": 74,
     "metadata": {},
     "output_type": "execute_result"
    }
   ],
   "source": [
    "# PolynomialFeatures (prepreprocessing)\n",
    "poly = PolynomialFeatures(degree=2)\n",
    "X_train_poly = poly.fit_transform(X_train)\n",
    "X_test_poly = poly.fit_transform(X_test)\n",
    "X_train_poly"
   ]
  },
  {
   "cell_type": "code",
   "execution_count": 75,
   "metadata": {},
   "outputs": [
    {
     "data": {
      "text/plain": [
       "LinearRegression(copy_X=True, fit_intercept=True, n_jobs=None, normalize=False)"
      ]
     },
     "execution_count": 75,
     "metadata": {},
     "output_type": "execute_result"
    }
   ],
   "source": [
    "# Linear Regression Model\n",
    "linreg = LinearRegression()\n",
    "\n",
    "# fit the model to the training data (learn the coefficients)\n",
    "linreg.fit(X_train_poly, y_train)"
   ]
  },
  {
   "cell_type": "code",
   "execution_count": 79,
   "metadata": {},
   "outputs": [
    {
     "data": {
      "text/plain": [
       "array([19.20415539, 13.54981889,  9.48670638, 11.15005873, 13.35016359,\n",
       "       17.59057038, 15.43187488, 11.28562695, 12.30079605, 13.81015931,\n",
       "       13.27044915, 13.1908191 , 13.89044338, 18.81923729, 10.78339063,\n",
       "       16.52485099, 12.77414587,  9.99864693, 16.96201519, 15.00290706,\n",
       "       11.05338252, 16.46258884, 14.23259217, 11.9086586 , 12.57654757,\n",
       "       12.714811  , 14.4345682 , 14.5155063 , 17.59057038, 12.43854259,\n",
       "       17.48548153,  9.8655524 , 16.25539117, 10.70643996, 15.14563789,\n",
       "       13.29036985,  9.8655524 , 10.3038335 , 17.99111055, 13.11127344])"
      ]
     },
     "execution_count": 79,
     "metadata": {},
     "output_type": "execute_result"
    }
   ],
   "source": [
    "# make predictions on the testing set\n",
    "y_pred = linreg.predict(X_test_poly)\n",
    "y_pred"
   ]
  },
  {
   "cell_type": "code",
   "execution_count": 80,
   "metadata": {},
   "outputs": [
    {
     "name": "stdout",
     "output_type": "stream",
     "text": [
      "RMSE= 3.4530163214136684\n",
      "Rsquare= 0.3580705641153773\n"
     ]
    }
   ],
   "source": [
    "# compute the RMSE of our predictions\n",
    "print(\"RMSE=\",np.sqrt(metrics.mean_squared_error(y_test, y_pred)))\n",
    "print(\"Rsquare=\",metrics.r2_score(y_test,y_pred))"
   ]
  },
  {
   "cell_type": "code",
   "execution_count": 81,
   "metadata": {},
   "outputs": [
    {
     "data": {
      "text/html": [
       "<div>\n",
       "<style scoped>\n",
       "    .dataframe tbody tr th:only-of-type {\n",
       "        vertical-align: middle;\n",
       "    }\n",
       "\n",
       "    .dataframe tbody tr th {\n",
       "        vertical-align: top;\n",
       "    }\n",
       "\n",
       "    .dataframe thead th {\n",
       "        text-align: right;\n",
       "    }\n",
       "</style>\n",
       "<table border=\"1\" class=\"dataframe\">\n",
       "  <thead>\n",
       "    <tr style=\"text-align: right;\">\n",
       "      <th></th>\n",
       "      <th>Actual</th>\n",
       "      <th>Predicted</th>\n",
       "    </tr>\n",
       "  </thead>\n",
       "  <tbody>\n",
       "    <tr>\n",
       "      <td>59</td>\n",
       "      <td>23.8</td>\n",
       "      <td>19.204155</td>\n",
       "    </tr>\n",
       "    <tr>\n",
       "      <td>41</td>\n",
       "      <td>16.6</td>\n",
       "      <td>13.549819</td>\n",
       "    </tr>\n",
       "    <tr>\n",
       "      <td>35</td>\n",
       "      <td>9.5</td>\n",
       "      <td>9.486706</td>\n",
       "    </tr>\n",
       "    <tr>\n",
       "      <td>103</td>\n",
       "      <td>14.8</td>\n",
       "      <td>11.150059</td>\n",
       "    </tr>\n",
       "    <tr>\n",
       "      <td>185</td>\n",
       "      <td>17.6</td>\n",
       "      <td>13.350164</td>\n",
       "    </tr>\n",
       "    <tr>\n",
       "      <td>199</td>\n",
       "      <td>25.5</td>\n",
       "      <td>17.590570</td>\n",
       "    </tr>\n",
       "    <tr>\n",
       "      <td>96</td>\n",
       "      <td>16.9</td>\n",
       "      <td>15.431875</td>\n",
       "    </tr>\n",
       "    <tr>\n",
       "      <td>5</td>\n",
       "      <td>12.9</td>\n",
       "      <td>11.285627</td>\n",
       "    </tr>\n",
       "    <tr>\n",
       "      <td>30</td>\n",
       "      <td>10.5</td>\n",
       "      <td>12.300796</td>\n",
       "    </tr>\n",
       "    <tr>\n",
       "      <td>169</td>\n",
       "      <td>17.1</td>\n",
       "      <td>13.810159</td>\n",
       "    </tr>\n",
       "    <tr>\n",
       "      <td>172</td>\n",
       "      <td>14.5</td>\n",
       "      <td>13.270449</td>\n",
       "    </tr>\n",
       "    <tr>\n",
       "      <td>19</td>\n",
       "      <td>11.3</td>\n",
       "      <td>13.190819</td>\n",
       "    </tr>\n",
       "    <tr>\n",
       "      <td>12</td>\n",
       "      <td>17.4</td>\n",
       "      <td>13.890443</td>\n",
       "    </tr>\n",
       "    <tr>\n",
       "      <td>90</td>\n",
       "      <td>16.7</td>\n",
       "      <td>18.819237</td>\n",
       "    </tr>\n",
       "    <tr>\n",
       "      <td>111</td>\n",
       "      <td>13.4</td>\n",
       "      <td>10.783391</td>\n",
       "    </tr>\n",
       "    <tr>\n",
       "      <td>119</td>\n",
       "      <td>15.9</td>\n",
       "      <td>16.524851</td>\n",
       "    </tr>\n",
       "    <tr>\n",
       "      <td>160</td>\n",
       "      <td>12.9</td>\n",
       "      <td>12.774146</td>\n",
       "    </tr>\n",
       "    <tr>\n",
       "      <td>36</td>\n",
       "      <td>12.8</td>\n",
       "      <td>9.998647</td>\n",
       "    </tr>\n",
       "    <tr>\n",
       "      <td>137</td>\n",
       "      <td>9.5</td>\n",
       "      <td>16.962015</td>\n",
       "    </tr>\n",
       "    <tr>\n",
       "      <td>60</td>\n",
       "      <td>18.4</td>\n",
       "      <td>15.002907</td>\n",
       "    </tr>\n",
       "    <tr>\n",
       "      <td>52</td>\n",
       "      <td>10.7</td>\n",
       "      <td>11.053383</td>\n",
       "    </tr>\n",
       "    <tr>\n",
       "      <td>17</td>\n",
       "      <td>12.5</td>\n",
       "      <td>16.462589</td>\n",
       "    </tr>\n",
       "    <tr>\n",
       "      <td>45</td>\n",
       "      <td>8.5</td>\n",
       "      <td>14.232592</td>\n",
       "    </tr>\n",
       "    <tr>\n",
       "      <td>95</td>\n",
       "      <td>11.5</td>\n",
       "      <td>11.908659</td>\n",
       "    </tr>\n",
       "    <tr>\n",
       "      <td>32</td>\n",
       "      <td>11.9</td>\n",
       "      <td>12.576548</td>\n",
       "    </tr>\n",
       "    <tr>\n",
       "      <td>163</td>\n",
       "      <td>14.9</td>\n",
       "      <td>12.714811</td>\n",
       "    </tr>\n",
       "    <tr>\n",
       "      <td>39</td>\n",
       "      <td>10.1</td>\n",
       "      <td>14.434568</td>\n",
       "    </tr>\n",
       "    <tr>\n",
       "      <td>29</td>\n",
       "      <td>18.9</td>\n",
       "      <td>14.515506</td>\n",
       "    </tr>\n",
       "    <tr>\n",
       "      <td>194</td>\n",
       "      <td>19.6</td>\n",
       "      <td>17.590570</td>\n",
       "    </tr>\n",
       "    <tr>\n",
       "      <td>28</td>\n",
       "      <td>15.9</td>\n",
       "      <td>12.438543</td>\n",
       "    </tr>\n",
       "    <tr>\n",
       "      <td>48</td>\n",
       "      <td>23.2</td>\n",
       "      <td>17.485482</td>\n",
       "    </tr>\n",
       "    <tr>\n",
       "      <td>166</td>\n",
       "      <td>11.9</td>\n",
       "      <td>9.865552</td>\n",
       "    </tr>\n",
       "    <tr>\n",
       "      <td>195</td>\n",
       "      <td>17.3</td>\n",
       "      <td>16.255391</td>\n",
       "    </tr>\n",
       "    <tr>\n",
       "      <td>178</td>\n",
       "      <td>11.7</td>\n",
       "      <td>10.706440</td>\n",
       "    </tr>\n",
       "    <tr>\n",
       "      <td>177</td>\n",
       "      <td>20.2</td>\n",
       "      <td>15.145638</td>\n",
       "    </tr>\n",
       "    <tr>\n",
       "      <td>98</td>\n",
       "      <td>15.5</td>\n",
       "      <td>13.290370</td>\n",
       "    </tr>\n",
       "    <tr>\n",
       "      <td>175</td>\n",
       "      <td>11.5</td>\n",
       "      <td>9.865552</td>\n",
       "    </tr>\n",
       "    <tr>\n",
       "      <td>74</td>\n",
       "      <td>11.0</td>\n",
       "      <td>10.303833</td>\n",
       "    </tr>\n",
       "    <tr>\n",
       "      <td>70</td>\n",
       "      <td>22.3</td>\n",
       "      <td>17.991111</td>\n",
       "    </tr>\n",
       "    <tr>\n",
       "      <td>173</td>\n",
       "      <td>7.6</td>\n",
       "      <td>13.111273</td>\n",
       "    </tr>\n",
       "  </tbody>\n",
       "</table>\n",
       "</div>"
      ],
      "text/plain": [
       "     Actual  Predicted\n",
       "59     23.8  19.204155\n",
       "41     16.6  13.549819\n",
       "35      9.5   9.486706\n",
       "103    14.8  11.150059\n",
       "185    17.6  13.350164\n",
       "199    25.5  17.590570\n",
       "96     16.9  15.431875\n",
       "5      12.9  11.285627\n",
       "30     10.5  12.300796\n",
       "169    17.1  13.810159\n",
       "172    14.5  13.270449\n",
       "19     11.3  13.190819\n",
       "12     17.4  13.890443\n",
       "90     16.7  18.819237\n",
       "111    13.4  10.783391\n",
       "119    15.9  16.524851\n",
       "160    12.9  12.774146\n",
       "36     12.8   9.998647\n",
       "137     9.5  16.962015\n",
       "60     18.4  15.002907\n",
       "52     10.7  11.053383\n",
       "17     12.5  16.462589\n",
       "45      8.5  14.232592\n",
       "95     11.5  11.908659\n",
       "32     11.9  12.576548\n",
       "163    14.9  12.714811\n",
       "39     10.1  14.434568\n",
       "29     18.9  14.515506\n",
       "194    19.6  17.590570\n",
       "28     15.9  12.438543\n",
       "48     23.2  17.485482\n",
       "166    11.9   9.865552\n",
       "195    17.3  16.255391\n",
       "178    11.7  10.706440\n",
       "177    20.2  15.145638\n",
       "98     15.5  13.290370\n",
       "175    11.5   9.865552\n",
       "74     11.0  10.303833\n",
       "70     22.3  17.991111\n",
       "173     7.6  13.111273"
      ]
     },
     "execution_count": 81,
     "metadata": {},
     "output_type": "execute_result"
    }
   ],
   "source": [
    "df_predicted=pd.DataFrame()\n",
    "df_predicted['Actual']=y_test\n",
    "df_predicted['Predicted']=y_pred\n",
    "df_predicted"
   ]
  },
  {
   "cell_type": "code",
   "execution_count": 82,
   "metadata": {},
   "outputs": [
    {
     "data": {
      "image/png": "[encoded data removed]",
      "text/plain": [
       "<Figure size 432x288 with 1 Axes>"
      ]
     },
     "metadata": {
      "needs_background": "light"
     },
     "output_type": "display_data"
    }
   ],
   "source": [
    "%matplotlib inline\n",
    "import matplotlib.pyplot as plt\n",
    "import numpy as np\n",
    "\n",
    "x=np.arange(1,len(y_test)+1)\n",
    "\n",
    "plt.plot(x,y_test,label='Actual')\n",
    "plt.plot(x,y_pred,label='Predicted')\n",
    "plt.title(\"Actual Vs Predicted (Test set)\")\n",
    "plt.legend(loc=\"best\")\n",
    "plt.grid(True)"
   ]
  }
 ],
 "metadata": {
  "kernelspec": {
   "display_name": "Python 3",
   "language": "python",
   "name": "python3"
  },
  "language_info": {
   "codemirror_mode": {
    "name": "ipython",
    "version": 3
   },
   "file_extension": ".py",
   "mimetype": "text/x-python",
   "name": "python",
   "nbconvert_exporter": "python",
   "pygments_lexer": "ipython3",
   "version": "3.7.4"
  }
 },
 "nbformat": 4,
 "nbformat_minor": 2
}
